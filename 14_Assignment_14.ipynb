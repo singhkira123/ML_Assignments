{
  "nbformat": 4,
  "nbformat_minor": 0,
  "metadata": {
    "colab": {
      "provenance": []
    },
    "kernelspec": {
      "name": "python3",
      "display_name": "Python 3"
    },
    "language_info": {
      "name": "python"
    }
  },
  "cells": [
    {
      "cell_type": "markdown",
      "source": [
        "# Assignment 14 Solutions"
      ],
      "metadata": {
        "id": "Kzb65DmhZu8G"
      }
    },
    {
      "cell_type": "markdown",
      "source": [
        "**1. What is the concept of supervised learning? What is the significance of the name ?**\n",
        "\n",
        "**Ans**: Supervised learning, also known as supervised machine learning, is a subcategory of machine learning and artificial intelligence. It is defined by its use of labeled datasets to train algorithms that to classify data or predict outcomes accurately."
      ],
      "metadata": {
        "id": "Ki8DibiSZ5xE"
      }
    },
    {
      "cell_type": "markdown",
      "source": [
        "**2. In the hospital sector, offer an example of supervised learning ?**\n",
        "\n",
        "Ans: Supervised learning uses a training set to teach models to yield the desired output. This training dataset includes inputs and correct outputs, which allow the model to learn over time. The algorithm measures its accuracy through the loss function, adjusting until the error has been sufficiently minimized."
      ],
      "metadata": {
        "id": "zW8Ng8UgZ6RV"
      }
    },
    {
      "cell_type": "markdown",
      "source": [
        "**3. Give three supervised learning examples ?**\n",
        "\n",
        "**Ans:** Example of Supervised Learning Algorithms are:\n",
        "\n",
        "* Linear Regression.\n",
        "\n",
        "* Nearest Neighbor.\n",
        "\n",
        "* Gaussian Naive Bayes.\n",
        "\n",
        "* Decision Trees.\n",
        "\n",
        "* Support Vector Machine (SVM)\n",
        "\n",
        "* Random Forest.\n",
        "\n"
      ],
      "metadata": {
        "id": "LBUR83rmZ6tM"
      }
    },
    {
      "cell_type": "markdown",
      "source": [
        "**4. In supervised learning, what are classification and regression ?**\n",
        "\n",
        "**Ans:**  Fundamentally, classification is about predicting a label and regression is about predicting a quantity. That classification is the problem of predicting a discrete class label output for an example. That regression is the problem of predicting a continuous quantity output for an example."
      ],
      "metadata": {
        "id": "OZ-ZDSQuZ7Hw"
      }
    },
    {
      "cell_type": "markdown",
      "source": [
        "**5. Give some popular classification algorithms as examples ?**\n",
        "\n",
        "**Ans:** Popular algorithms that can be used for multi-class classification include:\n",
        "\n",
        "* k-Nearest Neighbors\n",
        "\n",
        "* Decision Trees.\n",
        "\n",
        "* Naive Bayes"
      ],
      "metadata": {
        "id": "6ToPVKsnZ7nz"
      }
    },
    {
      "cell_type": "markdown",
      "source": [
        "**6. Briefly describe the SVM model ?**\n",
        "\n",
        "**Ans:** A support vector machine (SVM) is a supervised machine learning model that uses classification algorithms for two-group classification problems. After giving an SVM model sets of labeled training data for each category, they're able to categorize new text."
      ],
      "metadata": {
        "id": "UEvH3GRjZ8NT"
      }
    },
    {
      "cell_type": "markdown",
      "source": [
        "**7. In SVM, what is the cost of misclassification ?**\n",
        "\n",
        "**Ans:** In cost-sensitive learning instead of each instance being either correctly or incorrectly classified, each class (or instance) is given a misclassification cost. Thus, instead of trying to optimize the accuracy, the problem is then to minimize the total misclassification cost."
      ],
      "metadata": {
        "id": "tTXFPTrqZ8rg"
      }
    },
    {
      "cell_type": "markdown",
      "source": [
        "**8. In the SVM model, define Support Vectors ?**\n",
        "\n",
        "**Ans:** Support vectors are data points that are closer to the hyperplane and influence the position and orientation of the hyperplane. Using these support vectors, we maximize the margin of the classifier. Deleting the support vectors will change the position of the hyperplane. These are the points that help us build our SVM."
      ],
      "metadata": {
        "id": "C5Aqg8iHZ9LB"
      }
    },
    {
      "cell_type": "markdown",
      "source": [
        "**9. In the SVM model, define the kernel ?**\n",
        "\n",
        "**Ans:** SVM algorithms use a set of mathematical functions that are defined as the kernel. The function of kernel is to take data as input and transform it into the required form. These functions can be different types. For example linear, nonlinear, polynomial, radial basis function (RBF), and sigmoid."
      ],
      "metadata": {
        "id": "sawEeUUNZ9rF"
      }
    },
    {
      "cell_type": "markdown",
      "source": [
        "**10. What are the factors that influence SVM's effectiveness ?**\n",
        "\n",
        "**Ans:** SVM or Support Vector Machine is a linear model for classification and regression problems. It can solve linear and non-linear problems and work well for many practical problems. The idea of SVM is simple: The algorithm creates a line or a hyperplane which separates the data into classes."
      ],
      "metadata": {
        "id": "j2EGSuHiZ-Jx"
      }
    },
    {
      "cell_type": "markdown",
      "source": [
        "**11. What are the benefits of using the SVM model ?**\n",
        "\n",
        "**Ans:** SVM works relatively well when there is a clear margin of separation between classes. SVM is more effective in high dimensional spaces. SVM is effective in cases where the number of dimensions is greater than the number of samples.SVM is relatively memory efficient."
      ],
      "metadata": {
        "id": "K3GJLq9Bc3z-"
      }
    },
    {
      "cell_type": "markdown",
      "source": [
        "**12. What are the drawbacks of using the SVM model ?**\n",
        "\n",
        "**Ans:** SVM algorithm is not suitable for large data sets. SVM does not perform very well when the data set has more noise i.e. target classes are overlapping. In cases where the number of features for each data point exceeds the number of training data samples, the SVM will underperform.\n"
      ],
      "metadata": {
        "id": "haFC8GHyc4M8"
      }
    },
    {
      "cell_type": "markdown",
      "source": [
        "**13. Notes should be written on**\n",
        "\n",
        "1. The kNN algorithm has a validation flaw.\n",
        "\n",
        "2. In the kNN algorithm, the k value is chosen.\n",
        "\n",
        "3. A decision tree with inductive bias\n",
        "\n",
        "**Ans:** The Short notes on below topics is:\n",
        "\n",
        "**The kNN algorithm has a validation flaw.**\n",
        "\n",
        "The relatively low accuracy of kNN is caused by several factors. One of them is that every characteristic of the method has the same result on calculating distance. The solution of this problem is to give weight to each data characteristic.\n",
        "\n",
        "**In the kNN algorithm, the k value is chosen.**\n",
        "\n",
        "The optimal K value usually found is the square root of N, where N is the total number of samples. Use an error plot or accuracy plot to find the most favorable K value. KNN performs well with multi-label classes, but you must be aware of the outliers.\n",
        "\n",
        "  **A decision tree with inductive bias**\n",
        "  \n",
        "Shorter trees are preferred over longer ones. Trees that place high information gain attributes close to the root are preferred over those that do not."
      ],
      "metadata": {
        "id": "Do_4Rx7zc5Es"
      }
    },
    {
      "cell_type": "markdown",
      "source": [
        "**14. What are some of the benefits of the kNN algorithm ?**\n",
        "\n",
        "**Ans:** Some Advantages of KNN are:\n",
        "\n",
        "* Quick calculation time.\n",
        "\n",
        "* Simple algorithm – to interpret.\n",
        "\n",
        "* Versatile – useful for regression and classification.\n",
        "\n",
        "* High accuracy – you do not need to compare with better-supervised learning models."
      ],
      "metadata": {
        "id": "UgcqWNkcc5kN"
      }
    },
    {
      "cell_type": "markdown",
      "source": [
        "**15. What are some of the kNN algorithm's drawbacks ?**\n",
        "\n",
        "**Ans:** Some Disadvantages of KNN are:\n",
        "\n",
        "* Accuracy depends on the quality of the data.\n",
        "\n",
        "* With large data, the prediction stage might be slow.\n",
        "\n",
        "* Sensitive to the scale of the data and irrelevant features.\n",
        "\n",
        "* Require high memory – need to store all of the training data.\n",
        "\n",
        "* Given that it stores all of the training, it can be computationally expensive."
      ],
      "metadata": {
        "id": "DnUuMnsac5_R"
      }
    },
    {
      "cell_type": "markdown",
      "source": [
        "**16. Explain the decision tree algorithm in a few words ?**\n",
        "\n",
        "**Ans:** A decision tree is a graphical representation of all the possible solutions to a decision based on certain conditions. Tree models where the target variable can take a finite set of values are called classification trees and target variable can take continuous values (numbers) are called regression trees.\n",
        "\n"
      ],
      "metadata": {
        "id": "jrtwsE5mc6bZ"
      }
    },
    {
      "cell_type": "markdown",
      "source": [
        "**17. What is the difference between a node and a leaf in a decision tree ?**\n",
        "\n",
        "**Ans:** A decision tree is a flowchart-like structure in which each internal node represents a \"test\" on an attribute (e.g. whether a coin flip comes up heads or tails), each branch represents the outcome of the test, and each leaf node represents a class label (decision taken after computing all attributes)."
      ],
      "metadata": {
        "id": "MbMBjmkme0Ql"
      }
    },
    {
      "cell_type": "markdown",
      "source": [
        "**18. What is a decision tree's entropy ?**\n",
        "\n",
        "**Ans:** Entropy helps us to build an appropriate decision tree for selecting the best splitter. Entropy can be defined as a measure of the purity of the sub split. Entropy always lies between 0 to 1. The entropy of any split can be calculate by this formula."
      ],
      "metadata": {
        "id": "GW5bxPwme02V"
      }
    },
    {
      "cell_type": "markdown",
      "source": [
        "**19. In a decision tree, define knowledge gain ?**\n",
        "\n",
        "**Ans:** Information gain is the reduction in entropy or surprise by transforming a dataset and is often used in training decision trees.Information gain is calculated by comparing the entropy of the dataset before and after a transformation."
      ],
      "metadata": {
        "id": "pS-Y1VI9e1TO"
      }
    },
    {
      "cell_type": "markdown",
      "source": [
        "**20. Choose three advantages of the decision tree approach and write them down ?**\n",
        "\n",
        "**Ans:** Advantages of Decision Trees :\n",
        "\n",
        "* Easy to read and interpret. One of the advantages of decision trees is that their outputs are easy to read and interpret without requiring statistical knowledge.\n",
        "\n",
        "* Easy to prepare.\n",
        "\n",
        "* Less data cleaning required."
      ],
      "metadata": {
        "id": "syWr1pELe1wp"
      }
    },
    {
      "cell_type": "markdown",
      "source": [
        "**21. Make a list of three flaws in the decision tree process ?**\n",
        "\n",
        "**Ans:** Issues in Decision Tree Learning :\n",
        "\n",
        "* Overfitting the data.\n",
        "\n",
        "* Guarding against bad attribute choices.\n",
        "\n",
        "* Handling continuous valued attributes.\n",
        "\n",
        "* Handling missing attribute values.\n",
        "\n",
        "* Handling attributes with differing costs."
      ],
      "metadata": {
        "id": "Vcr90L6ae2Ol"
      }
    },
    {
      "cell_type": "markdown",
      "source": [
        "**22. Briefly describe the random forest model ?**\n",
        "\n",
        "**Ans:** The random forest is a classification algorithm consisting of many decisions trees. It uses bagging and feature randomness when building each individual tree to try to create an uncorrelated forest of trees whose prediction by committee is more accurate than that of any individual tree."
      ],
      "metadata": {
        "id": "ybknfsF8e2sR"
      }
    }
  ]
}