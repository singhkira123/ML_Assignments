{
  "nbformat": 4,
  "nbformat_minor": 0,
  "metadata": {
    "colab": {
      "provenance": []
    },
    "kernelspec": {
      "name": "python3",
      "display_name": "Python 3"
    },
    "language_info": {
      "name": "python"
    }
  },
  "cells": [
    {
      "cell_type": "markdown",
      "source": [
        "# ML_Assignment 08 Solutions"
      ],
      "metadata": {
        "id": "04DG4Xr7c-H0"
      }
    },
    {
      "cell_type": "markdown",
      "source": [
        "**1. What exactly is a feature? Give an example to illustrate your point ?**\n",
        "\n",
        "**Ans:** Features are the basic building blocks of datasets. The quality of the features in your dataset has a major impact on the quality of the insights you will gain when you use that dataset for machine learning.\n",
        "\n",
        "Additionally, different business problems within the same industry do not necessarily require the same features, which is why it is important to have a strong understanding of the business goals of your data science project."
      ],
      "metadata": {
        "id": "OZBZ5jj4dDvb"
      }
    },
    {
      "cell_type": "markdown",
      "source": [
        "**2. What are the various circumstances in which feature construction is required ?**\n",
        "\n",
        "**Ans:** The features in your data will directly influence the predictive models you use and the results you can achieve. Your results are dependent on many inter-dependent properties. You need great features that describe the structures inherent in your data. Better features means flexibility.\n",
        "\n"
      ],
      "metadata": {
        "id": "IU6Msl7odEOb"
      }
    },
    {
      "cell_type": "markdown",
      "source": [
        "**3. Describe how nominal variables are encoded ?**\n",
        "\n",
        "**Ans:**  Nominal data is made of discrete values with no numerical relationship between the different categories — mean and median are meaningless. Animal species is one example. For example, pig is not higher than bird and lower than fish."
      ],
      "metadata": {
        "id": "sMNB1ABadEpA"
      }
    },
    {
      "cell_type": "markdown",
      "source": [
        "**4. Describe how numeric features are converted to categorical features ?**\n",
        "\n",
        "**Ans:** Converting categorical features into numeric features using domain knowledge. For example, we are given a list of countries and say we know the distance to these countries from India then we can replace it with distance from India. So, every country can be represented as its distance from India."
      ],
      "metadata": {
        "id": "cZKk15FhdE_I"
      }
    },
    {
      "cell_type": "markdown",
      "source": [
        "**5. Describe the feature selection wrapper approach. State the advantages and disadvantages of this approach ?**\n",
        "\n",
        "**Ans:** Wrapper methods measure the “usefulness” of features based on the classifier performance. In contrast, the filter methods pick up the intrinsic properties of the features (i.e., the “relevance” of the features) measured via univariate statistics instead of cross-validation performance.\n",
        "\n",
        "The wrapper classification algorithms with joint dimensionality reduction and classification can also be used but these methods have high computation cost, lower discriminative power. Moreover, these methods depend on the efficient selection of classifiers for obtaining high accuracy"
      ],
      "metadata": {
        "id": "IAh4gwvkdFUP"
      }
    },
    {
      "cell_type": "markdown",
      "source": [
        "**6. When is a feature considered irrelevant? What can be said to quantify it ?**\n",
        "\n",
        "**Ans:** Features are considered relevant if they are either strongly or weakly relevant, and are considered irrelevant otherwise.\n",
        "\n",
        "Irrelevant features can never contribute to prediction accuracy, by definition. Also to quantify it we need to first check the list of features, There are three types of feature selection:\n",
        "\n",
        "* Wrapper methods (forward, backward, and stepwise selection)\n",
        "* Filter methods (ANOVA, Pearson correlation, variance thresholding)\n",
        "* Embedded methods (Lasso, Ridge, Decision Tree)."
      ],
      "metadata": {
        "id": "w2OTjXcldFuS"
      }
    },
    {
      "cell_type": "markdown",
      "source": [
        "**7. When is a function considered redundant? What criteria are used to identify features that could be redundant ?**\n",
        "\n",
        "**Ans:** If two features {X1, X2} are highly correlated, then the two features become redundant features since they have same information in terms of correlation measure. In other words, the correlation measure provides statistical association between any given a pair of features.\n",
        "\n",
        "Minimum redundancy feature selection is an algorithm frequently used in a method to accurately identify characteristics of genes and phenotypes"
      ],
      "metadata": {
        "id": "IR3S4FT8dGCk"
      }
    },
    {
      "cell_type": "markdown",
      "source": [
        "**8. What are the various distance measurements used to determine feature similarity ?**\n",
        "\n",
        "**Ans:** Four of the most commonly used distance measures in machine learning are as follows:\n",
        "\n",
        "* Hamming Distance.\n",
        "* Euclidean Distance\n",
        "* Manhattan Distance.\n",
        "\n"
      ],
      "metadata": {
        "id": "0vksH0W_dLKM"
      }
    },
    {
      "cell_type": "markdown",
      "source": [
        "**9. State difference between Euclidean and Manhattan distances ?**\n",
        "\n",
        "**Ans:** Euclidean & Hamming distances are used to measure similarity or dissimilarity between two sequences. Euclidean distance is extensively applied in analysis of convolutional codes and Trellis codes.\n",
        "\n",
        "Hamming distance is frequently encountered in the analysis of block codes."
      ],
      "metadata": {
        "id": "K8o1OGgWdLjO"
      }
    },
    {
      "cell_type": "markdown",
      "source": [
        "**10. Distinguish between feature transformation and feature selection ?**\n",
        "\n",
        "**Ans:** Feature selection is for filtering irrelevant or redundant features from your dataset. The key difference between feature selection and extraction is that feature selection keeps a subset of the original features while feature extraction creates brand new ones."
      ],
      "metadata": {
        "id": "vGVdjyLsdL52"
      }
    }
  ]
}